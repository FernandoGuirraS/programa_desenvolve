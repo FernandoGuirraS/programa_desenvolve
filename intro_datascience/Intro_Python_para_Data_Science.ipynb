{
  "nbformat": 4,
  "nbformat_minor": 0,
  "metadata": {
    "colab": {
      "name": "Intro_Python_para_Data_Science.ipynb",
      "provenance": []
    },
    "kernelspec": {
      "name": "python3",
      "display_name": "Python 3"
    },
    "language_info": {
      "name": "python"
    }
  },
  "cells": [
    {
      "cell_type": "markdown",
      "source": [
        "# Lógica de Programação com Python"
      ],
      "metadata": {
        "id": "VM4y9bROFivI"
      }
    },
    {
      "cell_type": "code",
      "execution_count": 71,
      "metadata": {
        "colab": {
          "base_uri": "https://localhost:8080/"
        },
        "id": "ZH_TPFMeFIGN",
        "outputId": "6271e511-4e6d-4ceb-f19d-87c7f76287e5"
      },
      "outputs": [
        {
          "output_type": "execute_result",
          "data": {
            "text/plain": [
              "2"
            ]
          },
          "metadata": {},
          "execution_count": 71
        }
      ],
      "source": [
        "1 + 1"
      ]
    },
    {
      "cell_type": "code",
      "source": [
        "\"Fernando\""
      ],
      "metadata": {
        "colab": {
          "base_uri": "https://localhost:8080/",
          "height": 35
        },
        "id": "vDUAxlmEFrbB",
        "outputId": "282252f4-1668-4f00-de37-4d7254544deb"
      },
      "execution_count": 72,
      "outputs": [
        {
          "output_type": "execute_result",
          "data": {
            "application/vnd.google.colaboratory.intrinsic+json": {
              "type": "string"
            },
            "text/plain": [
              "'Fernando'"
            ]
          },
          "metadata": {},
          "execution_count": 72
        }
      ]
    },
    {
      "cell_type": "code",
      "source": [
        "nome = 'Fernando'\n",
        "nome"
      ],
      "metadata": {
        "colab": {
          "base_uri": "https://localhost:8080/",
          "height": 35
        },
        "id": "e4Mb8Fh8FvIa",
        "outputId": "08dbb302-2c3f-430f-8044-40eb8ab248aa"
      },
      "execution_count": 73,
      "outputs": [
        {
          "output_type": "execute_result",
          "data": {
            "application/vnd.google.colaboratory.intrinsic+json": {
              "type": "string"
            },
            "text/plain": [
              "'Fernando'"
            ]
          },
          "metadata": {},
          "execution_count": 73
        }
      ]
    },
    {
      "cell_type": "code",
      "source": [
        "idade = 25\n",
        "idade"
      ],
      "metadata": {
        "colab": {
          "base_uri": "https://localhost:8080/"
        },
        "id": "BPxB4BDXF94p",
        "outputId": "252b5515-bf40-4656-d69f-ca4d4a834524"
      },
      "execution_count": 74,
      "outputs": [
        {
          "output_type": "execute_result",
          "data": {
            "text/plain": [
              "25"
            ]
          },
          "metadata": {},
          "execution_count": 74
        }
      ]
    },
    {
      "cell_type": "code",
      "source": [
        "print('O nome é Fernando e sua idade é 25 anos')"
      ],
      "metadata": {
        "colab": {
          "base_uri": "https://localhost:8080/"
        },
        "id": "Qb-mtRGRGB9Q",
        "outputId": "5b3b5058-7cf6-4423-cc4b-cdc527a0f7bf"
      },
      "execution_count": 75,
      "outputs": [
        {
          "output_type": "stream",
          "name": "stdout",
          "text": [
            "O nome é Fernando e sua idade é 25 anos\n"
          ]
        }
      ]
    },
    {
      "cell_type": "code",
      "source": [
        "print(f'O nome é {nome} e sua idade é {idade} anos')"
      ],
      "metadata": {
        "colab": {
          "base_uri": "https://localhost:8080/"
        },
        "id": "HhLTVrxeHFPa",
        "outputId": "3f5256ee-0645-494d-d3fd-c84696318539"
      },
      "execution_count": 76,
      "outputs": [
        {
          "output_type": "stream",
          "name": "stdout",
          "text": [
            "O nome é Fernando e sua idade é 25 anos\n"
          ]
        }
      ]
    },
    {
      "cell_type": "markdown",
      "source": [
        "# Criando minha primeira função"
      ],
      "metadata": {
        "id": "aCHyhIw8Hr0a"
      }
    },
    {
      "cell_type": "code",
      "source": [
        "def saudacao():\n",
        "    nome = input('Qual o seu nome?')\n",
        "    print(f'Olá, {nome}')"
      ],
      "metadata": {
        "id": "zeVArAStHabe"
      },
      "execution_count": 77,
      "outputs": []
    },
    {
      "cell_type": "code",
      "source": [
        "saudacao()"
      ],
      "metadata": {
        "colab": {
          "base_uri": "https://localhost:8080/"
        },
        "id": "4AGJO_wMIDiA",
        "outputId": "3cd8769d-adf4-4c6b-80ee-b81c18e33694"
      },
      "execution_count": 78,
      "outputs": [
        {
          "output_type": "stream",
          "name": "stdout",
          "text": [
            "Qual o seu nome?Fernando\n",
            "Olá, Fernando\n"
          ]
        }
      ]
    },
    {
      "cell_type": "code",
      "source": [
        "def nome_completo():\n",
        "    primeiro_nome = input(\"Qual seu primeiro nome? \")\n",
        "    segundo_nome = input(\"Qual seu segundo nome? \")\n",
        "    nome_completo = primeiro_nome + \" \" + segundo_nome\n",
        "    print(nome_completo)\n",
        "\n",
        "nome_completo()"
      ],
      "metadata": {
        "colab": {
          "base_uri": "https://localhost:8080/"
        },
        "id": "1EWdN3VeIGNk",
        "outputId": "e9cbfca1-8cf5-4517-c307-9d343145d746"
      },
      "execution_count": 79,
      "outputs": [
        {
          "output_type": "stream",
          "name": "stdout",
          "text": [
            "Qual seu primeiro nome? Fernando\n",
            "Qual seu segundo nome? Guirra\n",
            "Fernando Guirra\n"
          ]
        }
      ]
    },
    {
      "cell_type": "markdown",
      "source": [
        "# Parametros"
      ],
      "metadata": {
        "id": "nFouGX9OByPw"
      }
    },
    {
      "cell_type": "code",
      "source": [
        "def saudacao_com_parametro(nome_da_pessoa):\n",
        "    print(f\"Olá, {nome}\")\n",
        "\n",
        "saudacao_com_parametro(\"Fernando\")"
      ],
      "metadata": {
        "colab": {
          "base_uri": "https://localhost:8080/"
        },
        "id": "Y9TO5OfjJo7v",
        "outputId": "94357a90-bb89-4a41-a703-73b096773c77"
      },
      "execution_count": 80,
      "outputs": [
        {
          "output_type": "stream",
          "name": "stdout",
          "text": [
            "Olá, Fernando\n"
          ]
        }
      ]
    },
    {
      "cell_type": "code",
      "source": [
        "nome = \"Fernando\"\n",
        "saudacao_com_parametro(nome)"
      ],
      "metadata": {
        "colab": {
          "base_uri": "https://localhost:8080/"
        },
        "id": "yWXMpft1BxhF",
        "outputId": "ad8b9583-b275-40ed-f3ad-a752154bac32"
      },
      "execution_count": 81,
      "outputs": [
        {
          "output_type": "stream",
          "name": "stdout",
          "text": [
            "Olá, Fernando\n"
          ]
        }
      ]
    },
    {
      "cell_type": "markdown",
      "source": [
        "# Condicional"
      ],
      "metadata": {
        "id": "zh7KxqptCBy0"
      }
    },
    {
      "cell_type": "code",
      "source": [
        "idade = 25\n",
        "def verifica_se_pode_dirigir(idade):\n",
        "    if idade >= 18:\n",
        "        print(\"Tem permissão para dirigir\")\n",
        "    else:\n",
        "        print(\"Não tem permissão para dirigir\")\n",
        "verifica_se_pode_dirigir(idade)"
      ],
      "metadata": {
        "colab": {
          "base_uri": "https://localhost:8080/"
        },
        "id": "y22PJVBHB-7O",
        "outputId": "eaea9371-9b27-4fde-a105-f5b475d954b9"
      },
      "execution_count": 82,
      "outputs": [
        {
          "output_type": "stream",
          "name": "stdout",
          "text": [
            "Tem permissão para dirigir\n"
          ]
        }
      ]
    },
    {
      "cell_type": "markdown",
      "source": [
        "# Convertendo tipo para inteiro"
      ],
      "metadata": {
        "id": "2S37kbA6DMaj"
      }
    },
    {
      "cell_type": "code",
      "source": [
        "def verifica_se_pode_dirigir_sem_parametros():\n",
        "    idade = int(input(\"Qual sua idade? \"))\n",
        "    if idade >= 18:\n",
        "        print(\"Tem permissão para dirigir\")\n",
        "    else:\n",
        "        print(\"Não tem permissão para dirigir\")\n",
        "\n",
        "verifica_se_pode_dirigir_sem_parametros()"
      ],
      "metadata": {
        "colab": {
          "base_uri": "https://localhost:8080/"
        },
        "id": "HZDrXCrsCYAu",
        "outputId": "ec16c9f7-2adb-4788-f263-17d589be06b9"
      },
      "execution_count": 83,
      "outputs": [
        {
          "output_type": "stream",
          "name": "stdout",
          "text": [
            "Qual sua idade? 20\n",
            "Tem permissão para dirigir\n"
          ]
        }
      ]
    },
    {
      "cell_type": "markdown",
      "source": [
        "# Listas"
      ],
      "metadata": {
        "id": "Fw2n9Vhk4eco"
      }
    },
    {
      "cell_type": "code",
      "source": [
        "idade = 25"
      ],
      "metadata": {
        "id": "SSbQqbvRC4HI"
      },
      "execution_count": 84,
      "outputs": []
    },
    {
      "cell_type": "code",
      "source": [
        "type(idade)"
      ],
      "metadata": {
        "colab": {
          "base_uri": "https://localhost:8080/"
        },
        "id": "iGzd-V9w4kg-",
        "outputId": "7b677206-c1fe-483d-df0a-b3586d05cd7d"
      },
      "execution_count": 85,
      "outputs": [
        {
          "output_type": "execute_result",
          "data": {
            "text/plain": [
              "int"
            ]
          },
          "metadata": {},
          "execution_count": 85
        }
      ]
    },
    {
      "cell_type": "code",
      "source": [
        "nome = \"Fernando\""
      ],
      "metadata": {
        "id": "z4TrVJLm4lVb"
      },
      "execution_count": 86,
      "outputs": []
    },
    {
      "cell_type": "code",
      "source": [
        "type(nome)"
      ],
      "metadata": {
        "colab": {
          "base_uri": "https://localhost:8080/"
        },
        "id": "mOVv6rPX4mn4",
        "outputId": "df3b095c-efc4-46e4-e8f1-a052382559b4"
      },
      "execution_count": 87,
      "outputs": [
        {
          "output_type": "execute_result",
          "data": {
            "text/plain": [
              "str"
            ]
          },
          "metadata": {},
          "execution_count": 87
        }
      ]
    },
    {
      "cell_type": "code",
      "source": [
        "idades = [18, 22, 15, 25]\n",
        "type(idades)"
      ],
      "metadata": {
        "colab": {
          "base_uri": "https://localhost:8080/"
        },
        "id": "B5Gy3jRa4oE1",
        "outputId": "15aa7e23-0b38-4bff-ca2f-1bff64d3ca82"
      },
      "execution_count": 88,
      "outputs": [
        {
          "output_type": "execute_result",
          "data": {
            "text/plain": [
              "list"
            ]
          },
          "metadata": {},
          "execution_count": 88
        }
      ]
    },
    {
      "cell_type": "code",
      "source": [
        "idades[2]"
      ],
      "metadata": {
        "colab": {
          "base_uri": "https://localhost:8080/"
        },
        "id": "8dl07lGb4ubA",
        "outputId": "0b6beeb6-b82c-494c-9c33-ca0762b1b5e9"
      },
      "execution_count": 89,
      "outputs": [
        {
          "output_type": "execute_result",
          "data": {
            "text/plain": [
              "15"
            ]
          },
          "metadata": {},
          "execution_count": 89
        }
      ]
    },
    {
      "cell_type": "code",
      "source": [
        "idades = [18, 22, 15, 25]\n",
        "#         0    1   2   3"
      ],
      "metadata": {
        "id": "Yaltbxai4xEX"
      },
      "execution_count": 90,
      "outputs": []
    },
    {
      "cell_type": "code",
      "source": [
        "idades[1]"
      ],
      "metadata": {
        "colab": {
          "base_uri": "https://localhost:8080/"
        },
        "id": "cH3e-rh144wE",
        "outputId": "c3c84555-56c8-4277-97a4-2f00d2e6b397"
      },
      "execution_count": 91,
      "outputs": [
        {
          "output_type": "execute_result",
          "data": {
            "text/plain": [
              "22"
            ]
          },
          "metadata": {},
          "execution_count": 91
        }
      ]
    },
    {
      "cell_type": "code",
      "source": [
        "idades[0:3]"
      ],
      "metadata": {
        "colab": {
          "base_uri": "https://localhost:8080/"
        },
        "id": "DmFV3KD9452u",
        "outputId": "17106d09-ecd7-42ff-ad68-b438c1c8ee47"
      },
      "execution_count": 92,
      "outputs": [
        {
          "output_type": "execute_result",
          "data": {
            "text/plain": [
              "[18, 22, 15]"
            ]
          },
          "metadata": {},
          "execution_count": 92
        }
      ]
    },
    {
      "cell_type": "code",
      "source": [
        "idades[1:]"
      ],
      "metadata": {
        "colab": {
          "base_uri": "https://localhost:8080/"
        },
        "id": "LasEFJq748Jq",
        "outputId": "71eb9969-a8a4-4b89-ecec-b34ccb23b3a0"
      },
      "execution_count": 93,
      "outputs": [
        {
          "output_type": "execute_result",
          "data": {
            "text/plain": [
              "[22, 15, 25]"
            ]
          },
          "metadata": {},
          "execution_count": 93
        }
      ]
    },
    {
      "cell_type": "code",
      "source": [
        "idades = [18, 22, 15, 25]\n",
        "#          0  -3  -2  -1"
      ],
      "metadata": {
        "id": "OQGX6YYH5Llg"
      },
      "execution_count": 94,
      "outputs": []
    },
    {
      "cell_type": "code",
      "source": [
        "idades[-1]"
      ],
      "metadata": {
        "colab": {
          "base_uri": "https://localhost:8080/"
        },
        "id": "GEW57U9M5FE2",
        "outputId": "717a2f8e-b194-44c2-b20c-a068b7acfeed"
      },
      "execution_count": 95,
      "outputs": [
        {
          "output_type": "execute_result",
          "data": {
            "text/plain": [
              "25"
            ]
          },
          "metadata": {},
          "execution_count": 95
        }
      ]
    },
    {
      "cell_type": "code",
      "source": [
        "idades[-2]"
      ],
      "metadata": {
        "colab": {
          "base_uri": "https://localhost:8080/"
        },
        "id": "ByHiwwiY5GdF",
        "outputId": "86091e16-7bc3-4637-928f-e575c3a6d776"
      },
      "execution_count": 96,
      "outputs": [
        {
          "output_type": "execute_result",
          "data": {
            "text/plain": [
              "15"
            ]
          },
          "metadata": {},
          "execution_count": 96
        }
      ]
    },
    {
      "cell_type": "markdown",
      "source": [
        "# Laços e Loops"
      ],
      "metadata": {
        "id": "3kbkYiJN5nH8"
      }
    },
    {
      "cell_type": "code",
      "source": [
        "# for da função\n",
        "\n",
        "def verifica_se_pode_dirigir(idade):\n",
        "    if(idade >= 18):\n",
        "        print(f\"{idade} anos de idade, tem permissão para dirigir\")\n",
        "    else:\n",
        "        print(f\"{idade} anos de idade, não tem permissão para dirigir\")\n",
        "\n",
        "for idade in idades:\n",
        "    verifica_se_pode_dirigir(idade)"
      ],
      "metadata": {
        "colab": {
          "base_uri": "https://localhost:8080/"
        },
        "id": "SWMlMx-z5b4t",
        "outputId": "058cfaf6-d2d8-46b1-8462-3bceef132226"
      },
      "execution_count": 99,
      "outputs": [
        {
          "output_type": "stream",
          "name": "stdout",
          "text": [
            "18 anos de idade, tem permissão para dirigir\n",
            "22 anos de idade, tem permissão para dirigir\n",
            "15 anos de idade, não tem permissão para dirigir\n",
            "25 anos de idade, tem permissão para dirigir\n"
          ]
        }
      ]
    },
    {
      "cell_type": "code",
      "source": [
        "# função com for\n",
        "\n",
        "def verifica_se_pode_dirigir(idades):\n",
        "    for idade in idades:\n",
        "        if(idade >= 18):\n",
        "            print(f\"{idade} anos de idade, tem permissão para dirigir\")\n",
        "        else:\n",
        "            print(f\"{idade} anos de idade, não tem permissão para dirigir\")\n",
        "\n",
        "verifica_se_pode_dirigir(idades)"
      ],
      "metadata": {
        "colab": {
          "base_uri": "https://localhost:8080/"
        },
        "id": "HyqXgJer7cMt",
        "outputId": "1d65bc2d-d660-46d9-d0af-d3f8002fece2"
      },
      "execution_count": 100,
      "outputs": [
        {
          "output_type": "stream",
          "name": "stdout",
          "text": [
            "18 anos de idade, tem permissão para dirigir\n",
            "22 anos de idade, tem permissão para dirigir\n",
            "15 anos de idade, não tem permissão para dirigir\n",
            "25 anos de idade, tem permissão para dirigir\n"
          ]
        }
      ]
    },
    {
      "cell_type": "markdown",
      "source": [
        "# Booleano"
      ],
      "metadata": {
        "id": "Pyro5DLS8jcF"
      }
    },
    {
      "cell_type": "code",
      "source": [
        "idade = 25\n",
        "\n",
        "idade >= 25"
      ],
      "metadata": {
        "colab": {
          "base_uri": "https://localhost:8080/"
        },
        "id": "4fEYQX1t8Tbb",
        "outputId": "605de8c0-1edd-4c07-a323-41501d04215d"
      },
      "execution_count": 101,
      "outputs": [
        {
          "output_type": "execute_result",
          "data": {
            "text/plain": [
              "True"
            ]
          },
          "metadata": {},
          "execution_count": 101
        }
      ]
    },
    {
      "cell_type": "code",
      "source": [
        "idade < 20"
      ],
      "metadata": {
        "colab": {
          "base_uri": "https://localhost:8080/"
        },
        "id": "0aG1yBIg8V2C",
        "outputId": "7d92128c-3d55-4af7-acd9-3b8697550f23"
      },
      "execution_count": 102,
      "outputs": [
        {
          "output_type": "execute_result",
          "data": {
            "text/plain": [
              "False"
            ]
          },
          "metadata": {},
          "execution_count": 102
        }
      ]
    },
    {
      "cell_type": "code",
      "source": [
        "permissoes = []\n",
        "\n",
        "idades = [20, 14, 40]\n",
        "\n",
        "def verifica_se_pode_dirigir(idades, permissoes):\n",
        "    for idade in idades:\n",
        "        if idade >= 18:\n",
        "            permissoes.append(True)\n",
        "        else:\n",
        "            permissoes.append(False)\n",
        "\n",
        "verifica_se_pode_dirigir(idades, permissoes)"
      ],
      "metadata": {
        "id": "QNnaaZw_8xDb"
      },
      "execution_count": 103,
      "outputs": []
    },
    {
      "cell_type": "code",
      "source": [
        "permissoes"
      ],
      "metadata": {
        "colab": {
          "base_uri": "https://localhost:8080/"
        },
        "id": "L0xBBQlT9IMj",
        "outputId": "b71d8bd3-f441-4412-9f9e-761f96b95913"
      },
      "execution_count": 104,
      "outputs": [
        {
          "output_type": "execute_result",
          "data": {
            "text/plain": [
              "[True, False, True]"
            ]
          },
          "metadata": {},
          "execution_count": 104
        }
      ]
    },
    {
      "cell_type": "code",
      "source": [
        "for permissao in permissoes:\n",
        "    if permissao == True:\n",
        "        print(\"Tem permissão para dirigir\")\n",
        "    else:\n",
        "        print(\"Não tem permissão para dirigir\")"
      ],
      "metadata": {
        "colab": {
          "base_uri": "https://localhost:8080/"
        },
        "id": "nPTAfJbE9KJr",
        "outputId": "81dd5d7c-91c0-4340-a997-c8963732420e"
      },
      "execution_count": 105,
      "outputs": [
        {
          "output_type": "stream",
          "name": "stdout",
          "text": [
            "Tem permissão para dirigir\n",
            "Não tem permissão para dirigir\n",
            "Tem permissão para dirigir\n"
          ]
        }
      ]
    },
    {
      "cell_type": "markdown",
      "source": [
        "# Tipo em uma Lista"
      ],
      "metadata": {
        "id": "ETqihZGRAJkO"
      }
    },
    {
      "cell_type": "code",
      "source": [
        "lista = [\"Fernando\", 25, True, \"18\"]"
      ],
      "metadata": {
        "id": "PAr7UC2X9cEs"
      },
      "execution_count": 106,
      "outputs": []
    },
    {
      "cell_type": "code",
      "source": [
        "for item in lista:\n",
        "    print(f\"O elemento {item} é do tipo \", type(item))"
      ],
      "metadata": {
        "colab": {
          "base_uri": "https://localhost:8080/"
        },
        "id": "flfRk8pmAIGj",
        "outputId": "42c3da08-9d57-4c5a-de6a-6b9cf1b4153c"
      },
      "execution_count": 107,
      "outputs": [
        {
          "output_type": "stream",
          "name": "stdout",
          "text": [
            "O elemento Fernando é do tipo  <class 'str'>\n",
            "O elemento 25 é do tipo  <class 'int'>\n",
            "O elemento True é do tipo  <class 'bool'>\n",
            "O elemento 18 é do tipo  <class 'str'>\n"
          ]
        }
      ]
    },
    {
      "cell_type": "markdown",
      "source": [
        "# Imports"
      ],
      "metadata": {
        "id": "4OBt-KD6COgu"
      }
    },
    {
      "cell_type": "code",
      "source": [
        "from random import randrange, seed"
      ],
      "metadata": {
        "id": "4Fd2dQbBAfgj"
      },
      "execution_count": 108,
      "outputs": []
    },
    {
      "cell_type": "code",
      "source": [
        "# definindo o número inicial (num - 1)\n",
        "seed(10)"
      ],
      "metadata": {
        "id": "iXNnWuS6EU-y"
      },
      "execution_count": 109,
      "outputs": []
    },
    {
      "cell_type": "code",
      "source": [
        "# numeros aleatorios de 0 a 10 pois o 11 é exclusivo\n",
        "randrange(0, 11)"
      ],
      "metadata": {
        "colab": {
          "base_uri": "https://localhost:8080/"
        },
        "id": "6QghMV3SDoj0",
        "outputId": "6c8693fb-bb6d-4657-d066-834b984a48a5"
      },
      "execution_count": 110,
      "outputs": [
        {
          "output_type": "execute_result",
          "data": {
            "text/plain": [
              "9"
            ]
          },
          "metadata": {},
          "execution_count": 110
        }
      ]
    },
    {
      "cell_type": "code",
      "source": [
        "seed(6)"
      ],
      "metadata": {
        "id": "BstcsP8DElUP"
      },
      "execution_count": 111,
      "outputs": []
    },
    {
      "cell_type": "code",
      "source": [
        "notas_matematica = []\n",
        "\n",
        "for notas in range(8):\n",
        "    notas_matematica.append(randrange(0, 11))\n",
        "\n",
        "notas_matematica"
      ],
      "metadata": {
        "colab": {
          "base_uri": "https://localhost:8080/"
        },
        "id": "n8pkgwF7DxPd",
        "outputId": "b63630a7-a280-4cfe-eba9-babb1adc98f0"
      },
      "execution_count": 112,
      "outputs": [
        {
          "output_type": "execute_result",
          "data": {
            "text/plain": [
              "[9, 1, 7, 4, 0, 0, 2, 10]"
            ]
          },
          "metadata": {},
          "execution_count": 112
        }
      ]
    },
    {
      "cell_type": "code",
      "source": [
        "len(notas_matematica)"
      ],
      "metadata": {
        "colab": {
          "base_uri": "https://localhost:8080/"
        },
        "id": "7SaPRJMSEDW1",
        "outputId": "d43d3f1d-c05d-429e-8fb4-d6bb3524d8ff"
      },
      "execution_count": 113,
      "outputs": [
        {
          "output_type": "execute_result",
          "data": {
            "text/plain": [
              "8"
            ]
          },
          "metadata": {},
          "execution_count": 113
        }
      ]
    },
    {
      "cell_type": "markdown",
      "source": [
        "# Matplotlib"
      ],
      "metadata": {
        "id": "2ZfZaMBNHlpU"
      }
    },
    {
      "cell_type": "code",
      "source": [
        "import matplotlib.pyplot as plt"
      ],
      "metadata": {
        "id": "PRb6J5WRENfS"
      },
      "execution_count": 55,
      "outputs": []
    },
    {
      "cell_type": "code",
      "source": [
        "x = list(range(1, 9))\n",
        "y = notas_matematica\n",
        "plt.plot(x, y, marker='o', markersize=3)\n",
        "plt.title(\"Notas de Matemática\")\n",
        "plt.xlabel(\"Provas\")\n",
        "plt.ylabel(\"Notas\")\n",
        "plt.show()"
      ],
      "metadata": {
        "colab": {
          "base_uri": "https://localhost:8080/",
          "height": 295
        },
        "id": "GDh_VPSqLDmZ",
        "outputId": "cff98905-cdfd-43ac-8fcd-6f7e022f46f7"
      },
      "execution_count": 68,
      "outputs": [
        {
          "output_type": "display_data",
          "data": {
            "image/png": "[encoded data removed]",
            "text/plain": [
              "<Figure size 432x288 with 1 Axes>"
            ]
          },
          "metadata": {
            "needs_background": "light"
          }
        }
      ]
    },
    {
      "cell_type": "code",
      "source": [
        "import matplotlib.pyplot as plt\n",
        "\n",
        "notas_matematica = ['Matemática',8,7,6,6,7,7,8,10]\n",
        "notas_portugues = ['Português',9,9,9,8,5,6,8,5]\n",
        "notas_geografia = ['Geografia',10,10,6,7,7,7,8,7]\n",
        "\n",
        "notas = [notas_matematica, notas_portugues, notas_geografia]"
      ],
      "metadata": {
        "id": "fH5UJdlXLY36"
      },
      "execution_count": 69,
      "outputs": []
    },
    {
      "cell_type": "code",
      "source": [
        "for nota in notas:\n",
        "    x = list(range(1, 9))\n",
        "    y = nota[1:]\n",
        "    plt.plot(x, y, marker='o')\n",
        "    plt.xlabel('Provas')\n",
        "    plt.ylabel('Notas')\n",
        "    plt.title(nota[0])\n",
        "    plt.show()"
      ],
      "metadata": {
        "colab": {
          "base_uri": "https://localhost:8080/",
          "height": 851
        },
        "id": "HwhMJjVELbKY",
        "outputId": "5217a26b-4268-4545-d234-cb2cfde776f2"
      },
      "execution_count": 70,
      "outputs": [
        {
          "output_type": "display_data",
          "data": {
            "image/png": "[encoded data removed]",
            "text/plain": [
              "<Figure size 432x288 with 1 Axes>"
            ]
          },
          "metadata": {
            "needs_background": "light"
          }
        },
        {
          "output_type": "display_data",
          "data": {
            "image/png": "[encoded data removed]",
            "text/plain": [
              "<Figure size 432x288 with 1 Axes>"
            ]
          },
          "metadata": {
            "needs_background": "light"
          }
        },
        {
          "output_type": "display_data",
          "data": {
            "image/png": "[encoded data removed]",
            "text/plain": [
              "<Figure size 432x288 with 1 Axes>"
            ]
          },
          "metadata": {
            "needs_background": "light"
          }
        }
      ]
    },
    {
      "cell_type": "code",
      "source": [
        ""
      ],
      "metadata": {
        "id": "s79mCxe3OJ_I"
      },
      "execution_count": null,
      "outputs": []
    }
  ]
}